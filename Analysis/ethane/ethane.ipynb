{
 "cells": [
  {
   "cell_type": "code",
   "execution_count": 1,
   "metadata": {},
   "outputs": [],
   "source": [
    "import numpy as np\n",
    "import matplotlib.pyplot as plt"
   ]
  },
  {
   "cell_type": "code",
   "execution_count": 3,
   "metadata": {},
   "outputs": [
    {
     "name": "stdout",
     "output_type": "stream",
     "text": [
      "0.0013479988261406134\n"
     ]
    }
   ],
   "source": [
    "filename = \"energy.xvg\"\n",
    "energy = []\n",
    "energy2 = []\n",
    "f = open(filename)\n",
    "for i in range(24):\n",
    "    dump = f.readline()\n",
    "for j in range(800):\n",
    "    t, E = f.readline().split()\n",
    "    energy.append(float(E))\n",
    "    energy2.append(float(E)**2)\n",
    "\n",
    "E_mod = np.average(energy)\n",
    "E2_mod = np.average(energy2)\n",
    "\n",
    "Cv = (E2_mod - E_mod*E_mod)/(216*184.5*184.5*1.38)\n",
    "\n",
    "print(Cv)"
   ]
  },
  {
   "cell_type": "code",
   "execution_count": 4,
   "metadata": {},
   "outputs": [
    {
     "name": "stdout",
     "output_type": "stream",
     "text": [
      "0.9132828792433064\n"
     ]
    }
   ],
   "source": [
    "filename = \"enthalpy.xvg\"\n",
    "energy = []\n",
    "energy2 = []\n",
    "f = open(filename)\n",
    "for i in range(24):\n",
    "    dump = f.readline()\n",
    "for j in range(800):\n",
    "    t, E = f.readline().split()\n",
    "    energy.append(float(E))\n",
    "    energy2.append(float(E)**2)\n",
    "\n",
    "H_mod = np.average(energy)\n",
    "H2_mod = np.average(energy2)\n",
    "\n",
    "Cp = (H2_mod - H_mod*H_mod)/(216*184.5*184.5*1.38)\n",
    "\n",
    "print(Cp)"
   ]
  },
  {
   "cell_type": "code",
   "execution_count": null,
   "metadata": {},
   "outputs": [],
   "source": []
  }
 ],
 "metadata": {
  "interpreter": {
   "hash": "921065acfdd41dcbc9553f9bb558b554052c58b678a1e988fbf2ae9964f248b6"
  },
  "kernelspec": {
   "display_name": "Python 3.9.12 64-bit (windows store)",
   "language": "python",
   "name": "python3"
  },
  "language_info": {
   "codemirror_mode": {
    "name": "ipython",
    "version": 3
   },
   "file_extension": ".py",
   "mimetype": "text/x-python",
   "name": "python",
   "nbconvert_exporter": "python",
   "pygments_lexer": "ipython3",
   "version": "3.9.12"
  },
  "orig_nbformat": 4
 },
 "nbformat": 4,
 "nbformat_minor": 2
}
